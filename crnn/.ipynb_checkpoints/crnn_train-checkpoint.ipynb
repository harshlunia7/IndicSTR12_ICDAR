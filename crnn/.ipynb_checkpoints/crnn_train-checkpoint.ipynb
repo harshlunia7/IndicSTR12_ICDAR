{
 "cells": [
  {
   "cell_type": "code",
   "execution_count": null,
   "metadata": {
    "colab": {
     "base_uri": "https://localhost:8080/",
     "height": 121
    },
    "colab_type": "code",
    "executionInfo": {
     "elapsed": 32826,
     "status": "ok",
     "timestamp": 1594473856165,
     "user": {
      "displayName": "Sanjana Gunna",
      "photoUrl": "https://lh3.googleusercontent.com/a-/AOh14GgqF6XQVD-H3lzyv_fuk1GcdZNu6aExkGj-8DIB=s64",
      "userId": "07136718339798147998"
     },
     "user_tz": -330
    },
    "id": "moq0-y3BFFHu",
    "outputId": "e21d80ae-5a60-468e-cc2e-518646cb34a2"
   },
   "outputs": [],
   "source": [
    "from google.colab import drive\n",
    "drive.mount('/content/gdrive/')"
   ]
  },
  {
   "cell_type": "code",
   "execution_count": null,
   "metadata": {
    "colab": {},
    "colab_type": "code",
    "executionInfo": {
     "elapsed": 3178,
     "status": "ok",
     "timestamp": 1594473866919,
     "user": {
      "displayName": "Sanjana Gunna",
      "photoUrl": "https://lh3.googleusercontent.com/a-/AOh14GgqF6XQVD-H3lzyv_fuk1GcdZNu6aExkGj-8DIB=s64",
      "userId": "07136718339798147998"
     },
     "user_tz": -330
    },
    "id": "IWnqDPt3FZ07"
   },
   "outputs": [],
   "source": [
    "import sys\n",
    "sys.path.append('/content/gdrive/My Drive/CRNN_Data/crnn_new/')"
   ]
  },
  {
   "cell_type": "code",
   "execution_count": null,
   "metadata": {
    "colab": {},
    "colab_type": "code",
    "executionInfo": {
     "elapsed": 8277,
     "status": "ok",
     "timestamp": 1594473876235,
     "user": {
      "displayName": "Sanjana Gunna",
      "photoUrl": "https://lh3.googleusercontent.com/a-/AOh14GgqF6XQVD-H3lzyv_fuk1GcdZNu6aExkGj-8DIB=s64",
      "userId": "07136718339798147998"
     },
     "user_tz": -330
    },
    "id": "ENPHv5_PEaAi"
   },
   "outputs": [],
   "source": [
    "from __future__ import print_function\n",
    "from __future__ import division\n",
    "\n",
    "import argparse\n",
    "import random\n",
    "import torch\n",
    "import torch.backends.cudnn as cudnn\n",
    "import torch.optim as optim\n",
    "import torch.utils.data\n",
    "from torch.autograd import Variable\n",
    "import numpy as np\n",
    "#from warpctc_pytorch import CTCLoss\n",
    "import os\n",
    "import utils\n",
    "import dataset\n",
    "import torch.nn as nn\n",
    "import copy\n",
    "import models.crnn as crnn\n",
    "import string"
   ]
  },
  {
   "cell_type": "code",
   "execution_count": null,
   "metadata": {
    "colab": {
     "base_uri": "https://localhost:8080/",
     "height": 54
    },
    "colab_type": "code",
    "executionInfo": {
     "elapsed": 1447,
     "status": "ok",
     "timestamp": 1594474615266,
     "user": {
      "displayName": "Sanjana Gunna",
      "photoUrl": "https://lh3.googleusercontent.com/a-/AOh14GgqF6XQVD-H3lzyv_fuk1GcdZNu6aExkGj-8DIB=s64",
      "userId": "07136718339798147998"
     },
     "user_tz": -330
    },
    "id": "lEy9iKEEEnXt",
    "outputId": "0c8f507e-187f-4f69-db26-af2143a1f113"
   },
   "outputs": [],
   "source": [
    "parser = argparse.ArgumentParser()\n",
    "parser.add_argument('--trainRoot', help='path to dataset')\n",
    "parser.add_argument('--valRoot', help='path to dataset')\n",
    "parser.add_argument('--workers', type=int, help='number of data loading workers', default=2)\n",
    "parser.add_argument('--batchSize', type=int, default=16, help='input batch size')\n",
    "parser.add_argument('--imgH', type=int, default=32, help='the height of the input image to network')\n",
    "parser.add_argument('--imgW', type=int, default=100, help='the width of the input image to network')\n",
    "parser.add_argument('--nh', type=int, default=256, help='size of the lstm hidden state')\n",
    "parser.add_argument('--nepoch', type=int, default=50, help='number of epochs to train for')\n",
    "# TODO(meijieru): epoch -> iter\n",
    "parser.add_argument('--cuda', action='store_true', help='enables cuda')\n",
    "parser.add_argument('--ngpu', type=int, default=1, help='number of GPUs to use')\n",
    "parser.add_argument('--pretrained', default='', help=\"path to pretrained model (to continue training)\")\n",
    "parser.add_argument('--alphabet')\n",
    "parser.add_argument('--expr_dir', default='output_results', help='Where to store samples and models')\n",
    "parser.add_argument('--displayInterval', type=int, default=500, help='Interval to be displayed')\n",
    "parser.add_argument('--n_test_disp', type=int, default=10, help='Number of samples to display when test')\n",
    "parser.add_argument('--valInterval', type=int, default=500, help='Interval to be displayed')\n",
    "parser.add_argument('--saveInterval', type=int, default=1000, help='Interval to be displayed')\n",
    "parser.add_argument('--lr', type=float, default=0.01, help='learning rate for Critic, not used by adadealta')\n",
    "parser.add_argument('--beta1', type=float, default=0.5, help='beta1 for adam. default=0.5')\n",
    "parser.add_argument('--adam', action='store_true', help='Whether to use adam (default is rmsprop)')\n",
    "parser.add_argument('--adadelta', action='store_true', help='Whether to use adadelta (default is rmsprop)')\n",
    "parser.add_argument('--keep_ratio', action='store_true', help='whether to keep ratio for image resize')\n",
    "parser.add_argument('--manualSeed', type=int, default=1234, help='reproduce experiemnt')\n",
    "parser.add_argument('--random_sample', action='store_true', help='whether to sample the dataset with random sampler')\n",
    "parser.add_argument('--deal_with_lossnan', action='store_true',help='whether to replace all nan/inf in gradients to zero')\n",
    "\n",
    "opt = parser.parse_args(args=[])\n",
    "print(opt)"
   ]
  },
  {
   "cell_type": "code",
   "execution_count": null,
   "metadata": {
    "colab": {},
    "colab_type": "code",
    "executionInfo": {
     "elapsed": 921,
     "status": "ok",
     "timestamp": 1594474619122,
     "user": {
      "displayName": "Sanjana Gunna",
      "photoUrl": "https://lh3.googleusercontent.com/a-/AOh14GgqF6XQVD-H3lzyv_fuk1GcdZNu6aExkGj-8DIB=s64",
      "userId": "07136718339798147998"
     },
     "user_tz": -330
    },
    "id": "IWIWy-IVGcZf"
   },
   "outputs": [],
   "source": [
    "opt.trainRoot = '/content/gdrive/My Drive/CRNN_Data/newtrain_lmdb'\n",
    "opt.valRoot = '/content/gdrive/My Drive/CRNN_Data/newval_lmdb'\n",
    "opt.deal_with_lossnan = True\n",
    "opt.cuda = True\n",
    "opt.adadelta = True"
   ]
  },
  {
   "cell_type": "markdown",
   "metadata": {
    "colab_type": "text",
    "id": "r6E5tZ1-l1L-"
   },
   "source": [
    "Loading the labels\n"
   ]
  },
  {
   "cell_type": "code",
   "execution_count": null,
   "metadata": {
    "colab": {
     "base_uri": "https://localhost:8080/",
     "height": 34
    },
    "colab_type": "code",
    "executionInfo": {
     "elapsed": 1812,
     "status": "ok",
     "timestamp": 1594475061621,
     "user": {
      "displayName": "Sanjana Gunna",
      "photoUrl": "https://lh3.googleusercontent.com/a-/AOh14GgqF6XQVD-H3lzyv_fuk1GcdZNu6aExkGj-8DIB=s64",
      "userId": "07136718339798147998"
     },
     "user_tz": -330
    },
    "id": "3wtrwj5IHWmc",
    "outputId": "3a7ae140-ee64-43eb-ecaf-7c6fb4dda5bb"
   },
   "outputs": [],
   "source": [
    "lexiconlist_filename = '/content/gdrive/My Drive/CRNN_Data/crnn_new/lexicon.txt' \n",
    "p = open(lexiconlist_filename,'r').readlines()\n",
    "opt.alphabet = p #string.digits + string.ascii_lowercase\n",
    "nclass = len(opt.alphabet) + 1\n",
    "nc = 1\n",
    "\n",
    "print(nclass)"
   ]
  },
  {
   "cell_type": "markdown",
   "metadata": {
    "colab_type": "text",
    "id": "Cdi-zYx2l47b"
   },
   "source": [
    "Cuda setup"
   ]
  },
  {
   "cell_type": "code",
   "execution_count": null,
   "metadata": {
    "colab": {
     "base_uri": "https://localhost:8080/",
     "height": 50
    },
    "colab_type": "code",
    "executionInfo": {
     "elapsed": 979,
     "status": "ok",
     "timestamp": 1594475014745,
     "user": {
      "displayName": "Sanjana Gunna",
      "photoUrl": "https://lh3.googleusercontent.com/a-/AOh14GgqF6XQVD-H3lzyv_fuk1GcdZNu6aExkGj-8DIB=s64",
      "userId": "07136718339798147998"
     },
     "user_tz": -330
    },
    "id": "tNrNTFIIHhLI",
    "outputId": "abf9840c-d201-4414-de94-12656feb7dc7"
   },
   "outputs": [],
   "source": [
    "random.seed(opt.manualSeed)\n",
    "np.random.seed(opt.manualSeed)\n",
    "torch.manual_seed(opt.manualSeed)\n",
    "\n",
    "cudnn.benchmark = True\n",
    "\n",
    "if torch.cuda.is_available() and not opt.cuda:\n",
    "    print(\"WARNING: You have a CUDA device, so you should probably run with --cuda\")\n",
    "if torch.cuda.is_available() and opt.cuda:\n",
    "    print('Nothing wrong with cuda')\n",
    "    #opt.cuda = False\n",
    "\n",
    "print(torch.cuda.is_available())\n",
    "#print(opt.cuda)"
   ]
  },
  {
   "cell_type": "markdown",
   "metadata": {
    "colab_type": "text",
    "id": "HSs2fkLbl7WZ"
   },
   "source": [
    "Data Loading"
   ]
  },
  {
   "cell_type": "code",
   "execution_count": null,
   "metadata": {
    "colab": {},
    "colab_type": "code",
    "executionInfo": {
     "elapsed": 984,
     "status": "ok",
     "timestamp": 1594475052672,
     "user": {
      "displayName": "Sanjana Gunna",
      "photoUrl": "https://lh3.googleusercontent.com/a-/AOh14GgqF6XQVD-H3lzyv_fuk1GcdZNu6aExkGj-8DIB=s64",
      "userId": "07136718339798147998"
     },
     "user_tz": -330
    },
    "id": "TZ56pJRqIvnq"
   },
   "outputs": [],
   "source": [
    "train_dataset = dataset.lmdbDataset(root=opt.trainRoot)\n",
    "assert train_dataset\n",
    "if not opt.random_sample:\n",
    "    sampler = dataset.randomSequentialSampler(train_dataset, opt.batchSize)\n",
    "else:\n",
    "    sampler = None\n",
    "\n",
    "train_loader = torch.utils.data.DataLoader(\n",
    "    train_dataset, batch_size=opt.batchSize,\n",
    "    shuffle=False, num_workers=int(opt.workers),\n",
    "    collate_fn=dataset.alignCollate(imgH=opt.imgH, imgW=opt.imgW, keep_ratio=opt.keep_ratio))\n",
    "test_dataset = dataset.lmdbDataset(\n",
    "    root=opt.valRoot, transform=dataset.resizeNormalize((100, 32)))"
   ]
  },
  {
   "cell_type": "markdown",
   "metadata": {
    "colab_type": "text",
    "id": "yEUnv3uSl_XD"
   },
   "source": [
    "1. Forming a dict of the labels\n",
    "2. Declaring the loss function"
   ]
  },
  {
   "cell_type": "code",
   "execution_count": null,
   "metadata": {
    "colab": {
     "base_uri": "https://localhost:8080/",
     "height": 54
    },
    "colab_type": "code",
    "executionInfo": {
     "elapsed": 1028,
     "status": "ok",
     "timestamp": 1594475065426,
     "user": {
      "displayName": "Sanjana Gunna",
      "photoUrl": "https://lh3.googleusercontent.com/a-/AOh14GgqF6XQVD-H3lzyv_fuk1GcdZNu6aExkGj-8DIB=s64",
      "userId": "07136718339798147998"
     },
     "user_tz": -330
    },
    "id": "QpG8Yc2AI0LR",
    "outputId": "ee6a6d0a-7d19-4fe9-823e-03d3434f1b5a"
   },
   "outputs": [],
   "source": [
    "converter = utils.strLabelConverter(opt.alphabet)\n",
    "criterion = nn.CTCLoss(zero_infinity=True)"
   ]
  },
  {
   "cell_type": "markdown",
   "metadata": {
    "colab_type": "text",
    "id": "ordCx2W-mHQZ"
   },
   "source": [
    "Initialising the CRNN network"
   ]
  },
  {
   "cell_type": "code",
   "execution_count": null,
   "metadata": {
    "colab": {},
    "colab_type": "code",
    "executionInfo": {
     "elapsed": 10041,
     "status": "ok",
     "timestamp": 1594475085394,
     "user": {
      "displayName": "Sanjana Gunna",
      "photoUrl": "https://lh3.googleusercontent.com/a-/AOh14GgqF6XQVD-H3lzyv_fuk1GcdZNu6aExkGj-8DIB=s64",
      "userId": "07136718339798147998"
     },
     "user_tz": -330
    },
    "id": "lBoGEqzqEjMH"
   },
   "outputs": [],
   "source": [
    "# custom weights initialization called on crnn\n",
    "def weights_init(m):\n",
    "    classname = m.__class__.__name__\n",
    "    if classname.find('Conv') != -1:\n",
    "        m.weight.data.normal_(0.0, 0.02)\n",
    "    elif classname.find('BatchNorm') != -1:\n",
    "        m.weight.data.normal_(1.0, 0.02)\n",
    "        m.bias.data.fill_(0)\n",
    "\n",
    "crnn = crnn.CRNN(opt.imgH, nc, nclass, opt.nh)\n",
    "crnn.apply(weights_init)\n",
    "if opt.pretrained != '':\n",
    "    print('loading pretrained model from %s' % opt.pretrained)\n",
    "    crnn.load_state_dict(torch.load(opt.pretrained))\n",
    "#print(crnn)\n",
    "\n",
    "image = torch.FloatTensor(opt.batchSize, 3, opt.imgH, opt.imgH)\n",
    "text = torch.LongTensor(opt.batchSize * 5)\n",
    "length = torch.LongTensor(opt.batchSize)\n",
    "\n",
    "#opt.cuda = False\n",
    "if opt.cuda:\n",
    "    crnn.cuda()\n",
    "    crnn = torch.nn.DataParallel(crnn, device_ids=range(opt.ngpu))\n",
    "    image = image.cuda()\n",
    "    criterion = criterion.cuda()\n",
    "\n",
    "image = Variable(image)\n",
    "text = Variable(text)\n",
    "length = Variable(length)\n",
    "\n",
    "# loss averager\n",
    "loss_avg = utils.averager()\n",
    "\n",
    "# setup optimizer\n",
    "if opt.adam:\n",
    "    optimizer = optim.Adam(crnn.parameters(), lr=opt.lr,\n",
    "                           betas=(opt.beta1, 0.999))\n",
    "elif opt.adadelta:\n",
    "    optimizer = optim.Adadelta(crnn.parameters())\n",
    "else:\n",
    "    optimizer = optim.RMSprop(crnn.parameters(), lr=opt.lr)\n",
    "\n",
    "if opt.deal_with_lossnan:\n",
    "    if torch.__version__ >= '1.1.0':\n",
    "        criterion = nn.CTCLoss(zero_infinity = True)\n",
    "    else:\n",
    "        crnn.register_backward_hook(crnn.backward_hook)"
   ]
  },
  {
   "cell_type": "markdown",
   "metadata": {
    "colab_type": "text",
    "id": "HS0Jm3RLmL7d"
   },
   "source": [
    "Training function"
   ]
  },
  {
   "cell_type": "code",
   "execution_count": null,
   "metadata": {
    "colab": {},
    "colab_type": "code",
    "executionInfo": {
     "elapsed": 999,
     "status": "ok",
     "timestamp": 1594475089195,
     "user": {
      "displayName": "Sanjana Gunna",
      "photoUrl": "https://lh3.googleusercontent.com/a-/AOh14GgqF6XQVD-H3lzyv_fuk1GcdZNu6aExkGj-8DIB=s64",
      "userId": "07136718339798147998"
     },
     "user_tz": -330
    },
    "id": "5y4vvKeBEyWv"
   },
   "outputs": [],
   "source": [
    "def trainBatch(net, criterion, optimizer):\n",
    "    data = train_iter.next()\n",
    "    cpu_images, cpu_texts = data\n",
    "    #print(\"Labels before encoding :\")\n",
    "    #print(cpu_texts)\n",
    "    batch_size = cpu_images.size(0)\n",
    "    utils.loadData(image, cpu_images)\n",
    "    t, l = converter.encode(cpu_texts)\n",
    "    #print(\"Labels are encoded into Tensors: \")\n",
    "    #print(t)\n",
    "    #print(\"Lengths- \")\n",
    "    #print(l)\n",
    "    #print('\\n')\n",
    "    utils.loadData(text, t)\n",
    "    utils.loadData(length, l)\n",
    "    #print(text)\n",
    " \n",
    "    #print(length)\n",
    "    #print('\\n')\n",
    "    optimizer.zero_grad()\n",
    "    preds = crnn(image)\n",
    "    preds_size = Variable(torch.LongTensor([preds.size(0)] * batch_size))\n",
    "    cost = criterion(preds, text, preds_size, length) / batch_size\n",
    "    cost.backward()\n",
    "    optimizer.step()\n",
    "    return cost"
   ]
  },
  {
   "cell_type": "markdown",
   "metadata": {
    "colab_type": "text",
    "id": "d2AoA_sTmN-p"
   },
   "source": [
    "Validation "
   ]
  },
  {
   "cell_type": "code",
   "execution_count": null,
   "metadata": {
    "colab": {},
    "colab_type": "code",
    "id": "znQQUh8PEzp6"
   },
   "outputs": [],
   "source": [
    "def val(net, dataset, criterion, max_iter=100):\n",
    "    print('Start val')\n",
    "\n",
    "    for p in crnn.parameters():\n",
    "        p.requires_grad = False\n",
    "\n",
    "    crnn.eval()\n",
    "    data_loader = torch.utils.data.DataLoader(\n",
    "        dataset, shuffle=True, batch_size=opt.batchSize, num_workers=int(opt.workers))\n",
    "    val_iter = iter(data_loader)\n",
    "\n",
    "    i = 0\n",
    "    n_correct = 0\n",
    "    loss_avg = utils.averager()\n",
    "\n",
    "    max_iter = min(max_iter, len(data_loader))\n",
    "    for i in range(max_iter):\n",
    "        data = val_iter.next()\n",
    "        i += 1\n",
    "        cpu_images, cpu_texts = data\n",
    "        batch_size = cpu_images.size(0)\n",
    "        utils.loadData(image, cpu_images)\n",
    "        t, l = converter.encode(cpu_texts)\n",
    "        #print(t)\n",
    "        #print(l)\n",
    "        utils.loadData(text, t)\n",
    "        utils.loadData(length, l)\n",
    "\n",
    "        preds = crnn(image)\n",
    "        #print(\"Predictions from the image crnn: \\n\")\n",
    "        #print(preds.data)\n",
    "        preds_size = Variable(torch.LongTensor([preds.size(0)] * batch_size))\n",
    "        #print(\"Predictions size\\n\")\n",
    "        #print(preds_size.data)\n",
    "        cost = criterion(preds, text, preds_size, length) / batch_size\n",
    "        loss_avg.add(cost)\n",
    "\n",
    "        _, preds = preds.max(2)\n",
    "        #print(\"Predictions after doing max:\\n\")\n",
    "        #print(preds.data) \n",
    "        preds = preds.squeeze(1)\n",
    "        preds = preds.transpose(1, 0).contiguous().view(-1)\n",
    "        #print(\"Predictoins after transposing\")\n",
    "        #print(preds.data)\n",
    "        #print(preds_size.data)\n",
    "        sim_preds = converter.decode(preds.data, preds_size.data, raw=False)\n",
    "        for pred, target in zip(sim_preds, cpu_texts):\n",
    "            target = target.decode()\n",
    "            if pred == target:\n",
    "                n_correct += 1\n",
    "\n",
    "    raw_preds = converter.decode(preds.data, preds_size.data, raw=True)[:opt.n_test_disp]\n",
    "    for raw_pred, pred, gt in zip(raw_preds, sim_preds, cpu_texts):\n",
    "        print('%s, gt: %s' % (pred, gt.decode()))\n",
    "\n",
    "    print(\"Samples Correctly recognised =\" + str(n_correct))\n",
    "    accuracy = n_correct / float(max_iter * opt.batchSize)\n",
    "    print('Test loss: %f, accuray: %f' % (loss_avg.val(), accuracy))\n",
    "    return accuracy"
   ]
  },
  {
   "cell_type": "markdown",
   "metadata": {
    "colab_type": "text",
    "id": "1yJckks7mQuD"
   },
   "source": [
    "Epochs training"
   ]
  },
  {
   "cell_type": "code",
   "execution_count": null,
   "metadata": {
    "colab": {
     "base_uri": "https://localhost:8080/",
     "height": 606
    },
    "colab_type": "code",
    "executionInfo": {
     "elapsed": 42928,
     "status": "error",
     "timestamp": 1593962630026,
     "user": {
      "displayName": "Sanjana Gunna",
      "photoUrl": "https://lh3.googleusercontent.com/a-/AOh14GgqF6XQVD-H3lzyv_fuk1GcdZNu6aExkGj-8DIB=s64",
      "userId": "07136718339798147998"
     },
     "user_tz": -330
    },
    "id": "ZVif-6p2807a",
    "outputId": "2ad22234-d26c-4581-b674-951392e34fd8"
   },
   "outputs": [],
   "source": [
    "losses_per_epoch = []\n",
    "acc_per_epoch = []\n",
    "best_acc = 0.0\n",
    "is_best = 0\n",
    "l_avg = utils.averager()\n",
    "opt.nepoch = 1\n",
    "\n",
    "for epoch in range(opt.nepoch):\n",
    "    train_iter = iter(train_loader)\n",
    "    i = 0\n",
    "    while i < len(train_loader):\n",
    "        for p in crnn.parameters():\n",
    "            p.requires_grad = True\n",
    "        crnn.train()\n",
    "\n",
    "        cost = trainBatch(crnn, criterion, optimizer)\n",
    "        loss_avg.add(cost)\n",
    "        l_avg.add(cost)\n",
    "        i += 1\n",
    "\n",
    "        if i % opt.displayInterval == 0:\n",
    "            print('[%d/%d][%d/%d] Loss: %f' %\n",
    "                  (epoch, opt.nepoch, i, len(train_loader), loss_avg.val()))\n",
    "            loss_avg.reset()\n",
    "\n",
    "        if i % opt.valInterval == 0:\n",
    "            acc = val(crnn, test_dataset, criterion)\n",
    "            acc_per_epoch.append(str(epoch) + \" \" + str(acc))\n",
    "            is_best = acc >= best_acc\n",
    "            #if is_best:\n",
    "            #    best_acc = acc\n",
    "\n",
    "            #     filename = '{0}/best_model_{1}_'.format(opt.expr_dir, epoch) + '{0}'.format(best_acc*10000) + '.pth'\n",
    "            #    torch.save(crnn.state_dict(), filename)\n",
    "            #    is_best = 0"
   ]
  },
  {
   "cell_type": "code",
   "execution_count": null,
   "metadata": {},
   "outputs": [],
   "source": []
  }
 ],
 "metadata": {
  "accelerator": "GPU",
  "colab": {
   "authorship_tag": "ABX9TyNILnfV1cajUCvqob0ecZJq",
   "collapsed_sections": [],
   "name": "crnn_train.ipynb",
   "provenance": []
  },
  "kernelspec": {
   "display_name": "Python 3",
   "language": "python",
   "name": "python3"
  },
  "language_info": {
   "codemirror_mode": {
    "name": "ipython",
    "version": 3
   },
   "file_extension": ".py",
   "mimetype": "text/x-python",
   "name": "python",
   "nbconvert_exporter": "python",
   "pygments_lexer": "ipython3",
   "version": "3.7.5"
  }
 },
 "nbformat": 4,
 "nbformat_minor": 1
}
